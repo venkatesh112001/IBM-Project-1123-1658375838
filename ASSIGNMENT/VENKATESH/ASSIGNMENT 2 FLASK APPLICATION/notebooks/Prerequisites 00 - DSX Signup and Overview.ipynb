{
 "cells": [
  {
   "cell_type": "markdown",
   "metadata": {},
   "source": [
    "Register for a DSX account : http://datascience.ibm.com/signup"
   ]
  },
  {
   "cell_type": "markdown",
   "metadata": {
    "collapsed": true
   },
   "source": [
    "Getting started with DSX : http://datascience.ibm.com/docs/content/getting-started/get-started.html"
   ]
  },
  {
   "cell_type": "markdown",
   "metadata": {},
   "source": [
    "### Importing notebooks into DSX.\n",
    "\n",
    "The notebooks for the movie recommender project are available on github: https://github.com/snowch/movie-recommender-demo/tree/master/notebooks.  You can import the notebooks from github into your DSX project as follows:\n",
    "\n",
    "- From your project view, click the **add notebooks** link.\n",
    "- In the Create Notebook window\n",
    "  - Select **From URL**\n",
    "  - In the **Name** field, add a name for the notebook\n",
    "  - In the **Notebook URL** field, paste the github notebook url, e.g. https://github.com/snowch/movie-recommender-demo/blob/master/notebooks/Introduction.ipynb\n",
    "  - Click **Create Notebook**"
   ]
  },
  {
   "cell_type": "code",
   "execution_count": null,
   "metadata": {
    "collapsed": true
   },
   "outputs": [],
   "source": []
  }
 ],
 "metadata": {
  "kernelspec": {
   "display_name": "Python 2 with Spark 1.6",
   "language": "python",
   "name": "python2"
  },
  "language_info": {
   "codemirror_mode": {
    "name": "ipython",
    "version": 2
   },
   "file_extension": ".py",
   "mimetype": "text/x-python",
   "name": "python",
   "nbconvert_exporter": "python",
   "pygments_lexer": "ipython2",
   "version": "2.7.11"
  }
 },
 "nbformat": 4,
 "nbformat_minor": 0
}