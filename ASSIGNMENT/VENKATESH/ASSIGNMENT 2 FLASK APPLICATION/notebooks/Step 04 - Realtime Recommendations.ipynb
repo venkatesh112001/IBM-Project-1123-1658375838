{
    "nbformat_minor": 0, 
    "cells": [
        {
            "source": "## Overview\n\nThis notebook loads the movie rating data from DSX's local storage then it trains an *alternating least square* (ALS) model using Spark's Machine Learning library (MLlib).<br>\nFor more information on Spark ALS, see here:\n- http://spark.apache.org/docs/latest/mllib-collaborative-filtering.html#collaborative-filtering\n- https://github.com/jadianes/spark-movie-lens", 
            "cell_type": "markdown", 
            "metadata": {}
        }, 
        {
            "source": "## Load the data", 
            "cell_type": "markdown", 
            "metadata": {}
        }, 
        {
            "outputs": [], 
            "source": "from pyspark.mllib.recommendation import Rating\n\nratingsRDD = sc.textFile('ratings.dat') \\\n               .map(lambda l: l.split(\"::\")) \\\n               .map(lambda p: Rating(\n                                  user = int(p[0]), \n                                  product = int(p[1]),\n                                  rating = float(p[2]), \n                                  )).cache()", 
            "execution_count": 1, 
            "cell_type": "code", 
            "metadata": {
                "collapsed": false
            }
        }, 
        {
            "source": "## Split into training and testing", 
            "cell_type": "markdown", 
            "metadata": {
                "collapsed": true
            }
        }, 
        {
            "source": "Next we split the data into training and testing data sets", 
            "cell_type": "markdown", 
            "metadata": {}
        }, 
        {
            "outputs": [
                {
                    "name": "stdout", 
                    "text": "Total: 1000209, Training: 800305, test: 199904\n", 
                    "output_type": "stream"
                }
            ], 
            "source": "(training, test) = ratingsRDD.randomSplit([0.8, 0.2])\n\nnumTraining = training.count()\nnumTest = test.count()\n\n# verify row counts for each dataset\nprint(\"Total: {0}, Training: {1}, test: {2}\".format(ratingsRDD.count(), numTraining, numTest))", 
            "execution_count": 2, 
            "cell_type": "code", 
            "metadata": {
                "collapsed": false
            }
        }, 
        {
            "source": "## Build the recommendation model using ALS on the training data", 
            "cell_type": "markdown", 
            "metadata": {}
        }, 
        {
            "source": "I've chosen some values for the ALS parameters.  You should probaly experiment with different values.", 
            "cell_type": "markdown", 
            "metadata": {}
        }, 
        {
            "outputs": [], 
            "source": "from pyspark.mllib.recommendation import ALS\n\nrank = 50\nnumIterations = 20\nlambdaParam = 0.1\nmodel = ALS.train(training, rank, numIterations, lambdaParam)", 
            "execution_count": 3, 
            "cell_type": "code", 
            "metadata": {
                "collapsed": false
            }
        }, 
        {
            "source": "Extract the product (movie) features", 
            "cell_type": "markdown", 
            "metadata": {}
        }, 
        {
            "outputs": [], 
            "source": "import numpy as np\n\npf = model.productFeatures().cache()\n\npf_keys = pf.sortByKey().keys().collect()\npf_vals = pf.sortByKey().map(lambda x: list(x[1])).collect()             \n        \nVt = np.matrix(np.asarray(pf.values().collect()))", 
            "execution_count": 8, 
            "cell_type": "code", 
            "metadata": {
                "collapsed": false
            }
        }, 
        {
            "source": "Simulate a new user rating a movie", 
            "cell_type": "markdown", 
            "metadata": {}
        }, 
        {
            "outputs": [
                {
                    "name": "stdout", 
                    "text": "('predicted rating value', matrix([[ 14.65959505,  14.66570107,  14.68154852,  14.69836509,\n          14.74948512,  14.95311132,  14.96458764,  14.99105236,\n          16.78346608,  16.86513511]]))\n('predict rating prod_id', 'array([ 282,  673, 1735, 2086, 2262, 2513, 2625, 2666, 2839, 3333])')\n", 
                    "output_type": "stream"
                }
            ], 
            "source": "full_u = np.zeros(len(pf_keys))\nfull_u.itemset(1, 5) # user has rated product_id:1 = 5\nrecommendations = full_u*Vt*Vt.T\n\nprint(\"predicted rating value\", np.sort(recommendations)[:,-10:])\n\ntop_ten_recommended_product_ids = np.where(recommendations >= np.sort(recommendations)[:,-10:].min())[1]\n\nprint(\"predict rating prod_id\", np.array_repr(top_ten_recommended_product_ids))", 
            "execution_count": 10, 
            "cell_type": "code", 
            "metadata": {
                "collapsed": false
            }
        }, 
        {
            "outputs": [], 
            "source": "", 
            "execution_count": null, 
            "cell_type": "code", 
            "metadata": {
                "collapsed": true
            }
        }
    ], 
    "nbformat": 4, 
    "metadata": {
        "kernelspec": {
            "name": "python2", 
            "language": "python", 
            "display_name": "Python 2 with Spark 1.6"
        }, 
        "language_info": {
            "name": "python", 
            "pygments_lexer": "ipython2", 
            "mimetype": "text/x-python", 
            "nbconvert_exporter": "python", 
            "file_extension": ".py", 
            "codemirror_mode": {
                "name": "ipython", 
                "version": 2
            }, 
            "version": "2.7.11"
        }
    }
}