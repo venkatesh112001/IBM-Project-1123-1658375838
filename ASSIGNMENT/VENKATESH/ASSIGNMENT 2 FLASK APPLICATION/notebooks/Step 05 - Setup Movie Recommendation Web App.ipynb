{
    "nbformat_minor": 0, 
    "cells": [
        {
            "cell_type": "markdown", 
            "metadata": {}, 
            "source": "## Overview\n\n\nIf you haven't already created your own instance of the web application, click on the deploy to bluemix button, and follow the instructions.  \n\n[![Deploy to Bluemix](https://bluemix.net/deploy/button.png)](https://bluemix.net/deploy?repository=https://github.com/snowch/movie-recommender-demo.git)\n\n - Note that this step may take quite a long time (maybe 30 minutes).\n - Make a note of the **Organisation** and **Space** names where you are deploying to.\n - An instance of Cloudant, Compose Redis and the Movie Recommendation web application will be set up automatically for you.\n\n### Service credentials\n\nWhen the deployement has finished:\n\n - Login to the [Bluemix console](https://console.ng.bluemix.net/dashboard/services/)\n - Select the **Organisation** and **Space** that you deployed to.\n - Find the Cloudant service instance called **my_cloudant**, and select it.  \n - Select the Service Credentials tab on the page that is displayed when the service is created.\n - Select the action View Credentials from the Service Credentials table.\n - Update the cell with your Cloudant details\n - Remove the # character and then run the cell to save your credentials to a file on DSX"
        }, 
        {
            "cell_type": "code", 
            "execution_count": 5, 
            "source": "! # echo '{ \"username\": \"changeme\", \"password\": \"changeme\", \"host\": \"changeme\", \"port\": 443, \"url\": \"changeme\" }' > cloudant_credentials.json", 
            "outputs": [], 
            "metadata": {
                "collapsed": true
            }
        }, 
        {
            "cell_type": "markdown", 
            "metadata": {
                "collapsed": true
            }, 
            "source": " - Run the next cell to verify your credentials for Cloudant were saved"
        }, 
        {
            "cell_type": "code", 
            "execution_count": null, 
            "source": "! cat cloudant_credentials.json", 
            "outputs": [], 
            "metadata": {
                "collapsed": false
            }
        }, 
        {
            "cell_type": "code", 
            "execution_count": null, 
            "source": "", 
            "outputs": [], 
            "metadata": {
                "collapsed": true
            }
        }
    ], 
    "metadata": {
        "kernelspec": {
            "display_name": "Python 2 with Spark 1.6", 
            "language": "python", 
            "name": "python2"
        }, 
        "language_info": {
            "version": "2.7.11", 
            "nbconvert_exporter": "python", 
            "mimetype": "text/x-python", 
            "file_extension": ".py", 
            "name": "python", 
            "pygments_lexer": "ipython2", 
            "codemirror_mode": {
                "version": 2, 
                "name": "ipython"
            }
        }
    }, 
    "nbformat": 4
}